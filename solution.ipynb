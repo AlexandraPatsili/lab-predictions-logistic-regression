{
 "cells": [
  {
   "cell_type": "code",
   "execution_count": null,
   "id": "3d85e6b1",
   "metadata": {},
   "outputs": [],
   "source": [
    "import pymysql\n",
    "from sqlalchemy import create_engine\n",
    "import pandas as pd\n",
    "import getpass  # To get the password without showing the input\n",
    "password = getpass.getpass()"
   ]
  },
  {
   "cell_type": "code",
   "execution_count": null,
   "id": "47c84de8",
   "metadata": {},
   "outputs": [],
   "source": [
    "connection_string = 'mysql+pymysql://root:' + password + '@localhost/sakila'\n",
    "engine = create_engine(connection_string)"
   ]
  },
  {
   "cell_type": "code",
   "execution_count": null,
   "id": "901eb41e",
   "metadata": {},
   "outputs": [],
   "source": [
    "# 1. Create a query or queries to extract the information you think may be relevant for building the prediction model. It should include some film features and some rental features (X).\n",
    "query = '''\n",
    "    SELECT f.film_id, f.title, f.release_year, f.length, f.rating, f.special_features,\n",
    "           r.rental_id, r.rental_date, p.amount AS rental_cost\n",
    "    FROM film f\n",
    "    INNER JOIN inventory i ON f.film_id = i.film_id\n",
    "    INNER JOIN rental r ON i.inventory_id = r.inventory_id\n",
    "    INNER JOIN payment p ON r.rental_id = p.rental_id\n",
    "    WHERE r.rental_date >= '2005-05-01' AND r.rental_date <= '2005-05-31'\n",
    "'''\n",
    "\n",
    "# Read the data into a pandas dataframe\n",
    "data = pd.read_sql_query(query, engine)\n",
    "data.head()"
   ]
  },
  {
   "cell_type": "code",
   "execution_count": null,
   "id": "df2c98f6",
   "metadata": {},
   "outputs": [],
   "source": [
    "data.shape"
   ]
  },
  {
   "cell_type": "code",
   "execution_count": null,
   "id": "3f751b10",
   "metadata": {},
   "outputs": [],
   "source": [
    "# 2. Create a query to get the list of all unique film titles and a boolean indicating if it was rented (rental_date) in May 2005. (Create new column called - 'rented_in_may'). This will be our TARGET (y) variable.\n",
    "\n",
    "\n",
    "\n",
    "query = ''' SELECT film_id, title as movie_title, category_id, length as movie_length, rating, rental_duration, IF(rental_date BETWEEN '2005-05-01' AND '2005-05-31', 1, 0) AS rented_in_may,\n",
    "       (SELECT COUNT(*) FROM rental \n",
    "        WHERE inventory_id IN (SELECT inventory_id FROM inventory WHERE film_id = film.film_id) \n",
    "          AND rental_date BETWEEN '2005-05-01' AND '2005-05-31') AS rentals_in_may\n",
    "        FROM film\n",
    "        LEFT JOIN inventory USING(film_id)\n",
    "        LEFT JOIN film_category USING(film_id)\n",
    "        LEFT JOIN category USING(category_id)\n",
    "        LEFT JOIN rental USING(inventory_id)\n",
    "        GROUP BY film_id;'''\n",
    "\n",
    "\n"
   ]
  },
  {
   "cell_type": "code",
   "execution_count": null,
   "id": "9f28fb6e",
   "metadata": {},
   "outputs": [],
   "source": []
  },
  {
   "cell_type": "code",
   "execution_count": null,
   "id": "d828e42c",
   "metadata": {},
   "outputs": [],
   "source": [
    "#3 Read the data into a Pandas dataframe. At this point you should have 1000 rows. Number of columns depends on the number of features you chose.\n",
    "\n",
    "data = pd.read_sql_query(query, engine)\n",
    "data.head()"
   ]
  },
  {
   "cell_type": "code",
   "execution_count": null,
   "id": "f2c5871e",
   "metadata": {},
   "outputs": [],
   "source": [
    "# Analyze extracted features (X) and transform them. You may need to encode some categorical variables, or scale numerical variables."
   ]
  },
  {
   "cell_type": "code",
   "execution_count": null,
   "id": "4682db93",
   "metadata": {},
   "outputs": [],
   "source": [
    "X_num = data.select_dtypes(include='number')\n",
    "X_cat = data.select_dtypes(include='object')\n",
    "y = data['rented_in_may']\n",
    "\n",
    "from sklearn.preprocessing import MinMaxScaler\n",
    "from sklearn.preprocessing import StandardScaler\n",
    "from sklearn.model_selection import train_test_split\n",
    "\n",
    "X_cat = pd.get_dummies(X_cat['rating'])\n",
    "X_cat\n",
    "\n",
    "minMax = MinMaxScaler()\n",
    "minMax.fit(X_num)\n",
    "X_minmax_scaled = minMax.transform(X_num)\n",
    "X_minmax_scaled = pd.DataFrame(X_minmax_scaled,columns=X_num.columns)\n",
    "X_minmax_scaled\n",
    "\n",
    "X = pd.concat([X_num, X_cat], axis=1)\n",
    "X\n",
    "\n",
    "correlations_matrix = X.corr()\n",
    "sns.heatmap(correlations_matrix, annot=True)\n",
    "plt.show()\n",
    "\n",
    "X.drop(['release_year'], axis=1)\n",
    "\n",
    "X_train, X_test, y_train, y_test = train_test_split(X, y, random_state=0)\n",
    "\n",
    "transformer = StandardScaler()\n",
    "transformer.fit(X_train)\n",
    "\n",
    "X_train_scaled_np = transformer.transform(X_train)\n",
    "X_train_scaled = pd.DataFrame(X_train_scaled_np, columns=X_train.columns, index=X_train.index) \n",
    "X_test_scaled_np = transformer.transform(X_test)\n",
    "X_test_scaled = pd.DataFrame(X_test_scaled_np , columns=X_test.columns, index=X_test.index)\n",
    "X_train_scaled.head()"
   ]
  },
  {
   "cell_type": "code",
   "execution_count": null,
   "id": "b36f571a",
   "metadata": {},
   "outputs": [],
   "source": [
    "# Create a logistic regression model to predict 'rented_in_may' from the cleaned data."
   ]
  },
  {
   "cell_type": "code",
   "execution_count": null,
   "id": "74fd03bc",
   "metadata": {},
   "outputs": [],
   "source": [
    "y_test_pred = logreg1.predict(X_test_transformed)"
   ]
  },
  {
   "cell_type": "code",
   "execution_count": null,
   "id": "06da7d2f",
   "metadata": {},
   "outputs": [],
   "source": [
    "# Evaluate the results."
   ]
  },
  {
   "cell_type": "code",
   "execution_count": null,
   "id": "4853aa4d",
   "metadata": {},
   "outputs": [],
   "source": [
    "from sklearn.metrics import confusion_matrix, ConfusionMatrixDisplay\n",
    "\n",
    "cm_test = confusion_matrix(y_test,y_test_pred) \n",
    "disp = ConfusionMatrixDisplay(confusion_matrix=cm_test, display_labels=logreg1.classes_) \n",
    "disp.plot()\n",
    "plt.show()"
   ]
  },
  {
   "cell_type": "code",
   "execution_count": null,
   "id": "a38a6ae3",
   "metadata": {},
   "outputs": [],
   "source": []
  }
 ],
 "metadata": {
  "kernelspec": {
   "display_name": "Python 3 (ipykernel)",
   "language": "python",
   "name": "python3"
  },
  "language_info": {
   "codemirror_mode": {
    "name": "ipython",
    "version": 3
   },
   "file_extension": ".py",
   "mimetype": "text/x-python",
   "name": "python",
   "nbconvert_exporter": "python",
   "pygments_lexer": "ipython3",
   "version": "3.9.13"
  }
 },
 "nbformat": 4,
 "nbformat_minor": 5
}
